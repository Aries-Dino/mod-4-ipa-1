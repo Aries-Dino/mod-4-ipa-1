{
 "cells": [
  {
   "cell_type": "code",
   "execution_count": 1,
   "id": "70811610-b0d3-4c21-9b91-26bd3ee146f4",
   "metadata": {},
   "outputs": [],
   "source": [
    "def relationship_status(from_member, to_member, social_graph):\n",
    "    '''Relationship Status.\n",
    "    20 points.\n",
    "    Let us pretend that you are building a new app.\n",
    "    Your app supports social media functionality, which means that users can have\n",
    "    relationships with other users.\n",
    "    There are two guidelines for describing relationships on this social media app:\n",
    "    1. Any user can follow any other user.\n",
    "    2. If two users follow each other, they are considered friends.\n",
    "    This function describes the relationship that two users have with each other.\n",
    "    Please see \"assignment-4-sample-data.py\" for sample data. The social graph\n",
    "    will adhere to the same pattern.\n",
    "    Parameters\n",
    "    ----------\n",
    "    from_member: str\n",
    "        the subject member\n",
    "    to_member: str\n",
    "        the object member\n",
    "    social_graph: dict\n",
    "        the relationship data    \n",
    "    Returns\n",
    "    -------\n",
    "    str\n",
    "        \"follower\" if fromMember follows toMember,\n",
    "        \"followed by\" if fromMember is followed by toMember,\n",
    "        \"friends\" if fromMember and toMember follow each other,\n",
    "        \"no relationship\" if neither fromMember nor toMember follow each other.\n",
    "    '''\n",
    "    # Replace `pass` with your code. \n",
    "    # Stay within the function. Only use the parameters as input. The function should return your answer.\n",
    "    \n",
    "    if social_graph[from_member][\"following\"].count(to_member) > 0 and social_graph[to_member][\"following\"].count(from_member) > 0:\n",
    "        x = str(\"friends\")\n",
    "    elif social_graph[from_member][\"following\"].count(to_member) > 0:\n",
    "        x = str(\"follower\")\n",
    "    elif social_graph[to_member][\"following\"].count(from_member) > 0:\n",
    "        x = str(\"followed by\")\n",
    "    else:\n",
    "        x = str(\"no relationship\")\n",
    "    \n",
    "    return x"
   ]
  },
  {
   "cell_type": "code",
   "execution_count": 2,
   "id": "25b47cc9-6470-4977-81c7-c18253e2b87e",
   "metadata": {},
   "outputs": [],
   "source": [
    "social_graph = {\n",
    "    \"@bongolpoc\":{\"first_name\":\"Joselito\",\n",
    "                  \"last_name\":\"Olpoc\",\n",
    "                  \"following\":[\n",
    "                  ]\n",
    "    },\n",
    "    \"@joaquin\":  {\"first_name\":\"Joaquin\",\n",
    "                  \"last_name\":\"Gonzales\",\n",
    "                  \"following\":[\n",
    "                      \"@chums\",\"@jobenilagan\"\n",
    "                  ]\n",
    "    },\n",
    "    \"@chums\" : {\"first_name\":\"Matthew\",\n",
    "                \"last_name\":\"Uy\",\n",
    "                \"following\":[\n",
    "                    \"@bongolpoc\",\"@miketan\",\"@rudyang\",\"@joeilagan\"\n",
    "                ]\n",
    "    },\n",
    "    \"@jobenilagan\":{\"first_name\":\"Joben\",\n",
    "                   \"last_name\":\"Ilagan\",\n",
    "                   \"following\":[\n",
    "                    \"@eeebeee\",\"@joeilagan\",\"@chums\",\"@joaquin\"\n",
    "                   ]\n",
    "    },\n",
    "    \"@joeilagan\":{\"first_name\":\"Joe\",\n",
    "                  \"last_name\":\"Ilagan\",\n",
    "                  \"following\":[\n",
    "                    \"@eeebeee\",\"@jobenilagan\",\"@chums\"\n",
    "                  ]\n",
    "    },\n",
    "    \"@eeebeee\":  {\"first_name\":\"Elizabeth\",\n",
    "                  \"last_name\":\"Ilagan\",\n",
    "                  \"following\":[\n",
    "                    \"@jobenilagan\",\"@joeilagan\"\n",
    "                  ]\n",
    "    },\n",
    "}"
   ]
  },
  {
   "cell_type": "code",
   "execution_count": 3,
   "id": "e12767fb-6345-412e-b7a3-94e2c0e50421",
   "metadata": {},
   "outputs": [
    {
     "data": {
      "text/plain": [
       "'followed by'"
      ]
     },
     "execution_count": 3,
     "metadata": {},
     "output_type": "execute_result"
    }
   ],
   "source": [
    "relationship_status(\"@chums\",\"@joaquin\",social_graph)"
   ]
  },
  {
   "cell_type": "code",
   "execution_count": null,
   "id": "8f90d20c-0565-47a4-9514-54a091959af3",
   "metadata": {},
   "outputs": [],
   "source": []
  },
  {
   "cell_type": "code",
   "execution_count": 4,
   "id": "d1afcb70-bc15-4c51-b377-338a2e490dd2",
   "metadata": {},
   "outputs": [],
   "source": [
    "def tic_tac_toe(board):\n",
    "    '''Tic Tac Toe. \n",
    "    25 points.\n",
    "    Tic Tac Toe is a common paper-and-pencil game. \n",
    "    Players must attempt to successfully draw a straight line of their symbol across a grid.\n",
    "    The player that does this first is considered the winner.\n",
    "    This function evaluates a tic tac toe board and returns the winner.\n",
    "    Please see \"assignment-4-sample-data.py\" for sample data. The board will adhere\n",
    "    to the same pattern. The board may by 3x3, 4x4, 5x5, or 6x6. The board will never\n",
    "    have more than one winner. The board will only ever have 2 unique symbols at the same time.\n",
    "    Parameters\n",
    "    ----------\n",
    "    board: list\n",
    "        the representation of the tic-tac-toe board as a square list of lists\n",
    "    Returns\n",
    "    -------\n",
    "    str\n",
    "        the symbol of the winner or \"NO WINNER\" if there is no winner\n",
    "    '''\n",
    "    # Replace `pass` with your code. \n",
    "    # Stay within the function. Only use the parameters as input. The function should return your answer.\n",
    "    horizontal = []\n",
    "    for i in range(len(board)):\n",
    "        x_hor = all(v == board[i][0] for v in board[i])\n",
    "        horizontal.append(x_hor)\n",
    "    \n",
    "    vertical = []\n",
    "    for y in range(len(board)):\n",
    "        x_vert = [i for i in zip(*board)][y].count([i for i in zip(*board)][y][0]) == len([i for i in zip(*board)][y])\n",
    "        vertical.append(x_vert)\n",
    "\n",
    "    if horizontal.count(True) > 0:\n",
    "        winner = board[horizontal.index(True)][0]\n",
    "    elif vertical.count(True) > 0:\n",
    "        winner = board[vertical.index(True)][0]\n",
    "    elif [board[i][i] for i in range(len(board))].count([board[i][i] for i in range(len(board))][0]) == len([board[i][i] for i in range(len(board))]):\n",
    "        winner = [board[i][i] for i in range(len(board))][0]\n",
    "    elif [board[len(board)-1-i][i] for i in range(len(board))].count([board[len(board)-1-i][i] for i in range(len(board))][0]) == len([board[len(board)-1-i][i] for i in range(len(board))]):\n",
    "        winner = [board[len(board)-1-i][i] for i in range(len(board))][0]\n",
    "    else:\n",
    "        winner = \"NO WINNER\"\n",
    "    \n",
    "    return winner"
   ]
  },
  {
   "cell_type": "code",
   "execution_count": null,
   "id": "cedd537b-e4ec-4c5c-a01e-89e6a93195b4",
   "metadata": {},
   "outputs": [],
   "source": []
  },
  {
   "cell_type": "code",
   "execution_count": 5,
   "id": "8d66c5c5-56af-4214-b168-baa908dc3cf5",
   "metadata": {},
   "outputs": [],
   "source": [
    "board1 = [\n",
    "['X','X','O'],\n",
    "['O','X','O'],\n",
    "['O','','X'],\n",
    "]\n",
    "\n",
    "board2 = [\n",
    "['X','X','O'],\n",
    "['O','X','O'],\n",
    "['','O','X'],\n",
    "]\n",
    "\n",
    "board3 = [\n",
    "['O','X','O'],\n",
    "['','O','X'],\n",
    "['X','X','O'],\n",
    "]\n",
    "\n",
    "board4 = [\n",
    "['X','X','X'],\n",
    "['O','X','O'],\n",
    "['O','','O'],\n",
    "]\n",
    "\n",
    "board5 = [\n",
    "['X','X','O'],\n",
    "['O','X','O'],\n",
    "['X','','O'],\n",
    "]\n",
    "\n",
    "board6 = [\n",
    "['X','X','O'],\n",
    "['O','X','O'],\n",
    "['X','',''],\n",
    "]\n",
    "\n",
    "board7 = [\n",
    "['X','X','O',''],\n",
    "['O','X','O','O'],\n",
    "['X','','','O'],\n",
    "['O','X','','']\n",
    "]\n",
    "\n",
    "board8 = [\n",
    "['X','O','O'],\n",
    "['X','O','O'],\n",
    "['O','X','X'],\n",
    "]"
   ]
  },
  {
   "cell_type": "code",
   "execution_count": 6,
   "id": "9fcf2a67-7867-4681-9344-ab07397cfd27",
   "metadata": {},
   "outputs": [
    {
     "data": {
      "text/plain": [
       "'O'"
      ]
     },
     "execution_count": 6,
     "metadata": {},
     "output_type": "execute_result"
    }
   ],
   "source": [
    "tic_tac_toe(board8)"
   ]
  },
  {
   "cell_type": "code",
   "execution_count": 7,
   "id": "50e7c556-21a7-4593-904b-9c4934ba5e1c",
   "metadata": {},
   "outputs": [
    {
     "data": {
      "text/plain": [
       "'X'"
      ]
     },
     "execution_count": 7,
     "metadata": {},
     "output_type": "execute_result"
    }
   ],
   "source": [
    "tic_tac_toe(board1)"
   ]
  },
  {
   "cell_type": "code",
   "execution_count": 8,
   "id": "eb8c00d1-5ad8-4d02-9c40-8184988d17ca",
   "metadata": {},
   "outputs": [
    {
     "data": {
      "text/plain": [
       "'X'"
      ]
     },
     "execution_count": 8,
     "metadata": {},
     "output_type": "execute_result"
    }
   ],
   "source": [
    "tic_tac_toe(board2)"
   ]
  },
  {
   "cell_type": "code",
   "execution_count": 9,
   "id": "c2eab96c-8bb3-4491-bbc8-65bbe5e2c142",
   "metadata": {},
   "outputs": [
    {
     "data": {
      "text/plain": [
       "'O'"
      ]
     },
     "execution_count": 9,
     "metadata": {},
     "output_type": "execute_result"
    }
   ],
   "source": [
    "tic_tac_toe(board3)"
   ]
  },
  {
   "cell_type": "code",
   "execution_count": 10,
   "id": "4d68c228-2581-4213-b81f-a6af47b81020",
   "metadata": {},
   "outputs": [
    {
     "data": {
      "text/plain": [
       "'X'"
      ]
     },
     "execution_count": 10,
     "metadata": {},
     "output_type": "execute_result"
    }
   ],
   "source": [
    "tic_tac_toe(board4)"
   ]
  },
  {
   "cell_type": "code",
   "execution_count": 11,
   "id": "e3ff92d8-37fb-4803-b255-ec74662828cc",
   "metadata": {},
   "outputs": [
    {
     "data": {
      "text/plain": [
       "'X'"
      ]
     },
     "execution_count": 11,
     "metadata": {},
     "output_type": "execute_result"
    }
   ],
   "source": [
    "tic_tac_toe(board5)"
   ]
  },
  {
   "cell_type": "code",
   "execution_count": 12,
   "id": "316d8822-feab-4f5d-ab33-15d3e8207bdc",
   "metadata": {},
   "outputs": [
    {
     "data": {
      "text/plain": [
       "'NO WINNER'"
      ]
     },
     "execution_count": 12,
     "metadata": {},
     "output_type": "execute_result"
    }
   ],
   "source": [
    "tic_tac_toe(board6)"
   ]
  },
  {
   "cell_type": "code",
   "execution_count": 13,
   "id": "1711e15c-f74a-4341-90a5-50a8f6048ad6",
   "metadata": {},
   "outputs": [
    {
     "data": {
      "text/plain": [
       "'NO WINNER'"
      ]
     },
     "execution_count": 13,
     "metadata": {},
     "output_type": "execute_result"
    }
   ],
   "source": [
    "tic_tac_toe(board7)"
   ]
  },
  {
   "cell_type": "code",
   "execution_count": null,
   "id": "ba685c15-6773-4486-b41d-a82e7e69aa1f",
   "metadata": {},
   "outputs": [],
   "source": []
  },
  {
   "cell_type": "code",
   "execution_count": 85,
   "id": "ba75b0b1-ae05-470a-8367-7755b8b2a5c0",
   "metadata": {},
   "outputs": [],
   "source": [
    "def eta(first_stop, second_stop, route_map):\n",
    "    '''ETA. \n",
    "    25 points.\n",
    "    A shuttle van service is tasked to travel along a predefined circlar route.\n",
    "    This route is divided into several legs between stops.\n",
    "    The route is one-way only, and it is fully connected to itself.\n",
    "    This function returns how long it will take the shuttle to arrive at a stop\n",
    "    after leaving another stop.\n",
    "    Please see \"mod-4-ipa-1-sample-data.py\" for sample data. The route map will\n",
    "    adhere to the same pattern. The route map may contain more legs and more stops,\n",
    "    but it will always be one-way and fully enclosed.\n",
    "    Parameters\n",
    "    ----------\n",
    "    first_stop: str\n",
    "        the stop that the shuttle will leave\n",
    "    second_stop: str\n",
    "        the stop that the shuttle will arrive at\n",
    "    route_map: dict\n",
    "        the data describing the routes\n",
    "    Returns\n",
    "    -------\n",
    "    int\n",
    "        the time it will take the shuttle to travel from first_stop to second_stop\n",
    "    '''\n",
    "    # Replace `pass` with your code. \n",
    "    # Stay within the function. Only use the parameters as input. The function should return your answer.\n",
    "    stop1 = []\n",
    "    for i in range(len(list(route_map.keys()))):\n",
    "        x = list(route_map.keys())[i][0]\n",
    "        stop1.append(x)\n",
    "\n",
    "    y = []\n",
    "    z = stop1.index(first_stop)\n",
    "    travel = list(route_map.keys())[z][1]\n",
    "    while list(route_map.keys())[z][1] != second_stop:\n",
    "        z = z+1\n",
    "        travel = travel + \",\" + list(route_map.keys())[z][1]\n",
    "\n",
    "    y.append(travel)\n",
    "\n",
    "    stop2 = y\n",
    "\n",
    "    stop2list = stop2[0].split(\",\")\n",
    "\n",
    "    b = []\n",
    "    for v in range(len(stop2list)):\n",
    "        a = 0          \n",
    "        while list(route_map.keys())[a][1] != stop2list[v]:\n",
    "            a = a + 1\n",
    "        c = list(route_map.keys())[a]\n",
    "        b.append(c)\n",
    "\n",
    "    final = []\n",
    "    for i in range(len(b)):\n",
    "        last = route_map[b[i]][\"travel_time_mins\"]\n",
    "        final.append(last)\n",
    "\n",
    "    final\n",
    "    final_2 = sum(final)\n",
    "\n",
    "    return final_2  "
   ]
  },
  {
   "cell_type": "code",
   "execution_count": null,
   "id": "65c86da6-8d5c-498e-a478-b1d42b74b332",
   "metadata": {},
   "outputs": [],
   "source": []
  },
  {
   "cell_type": "code",
   "execution_count": 86,
   "id": "c3c79973-c80d-4ce4-a6fd-6665501ac29e",
   "metadata": {},
   "outputs": [],
   "source": [
    "legs = {\n",
    "     (\"upd\",\"admu\"):{\n",
    "         \"travel_time_mins\":10\n",
    "     },\n",
    "     (\"admu\",\"dlsu\"):{\n",
    "         \"travel_time_mins\":35\n",
    "     },\n",
    "     (\"dlsu\",\"upd\"):{\n",
    "         \"travel_time_mins\":55\n",
    "     }\n",
    "}\n",
    "\n",
    "legs1 = {\n",
    "    ('a1', 'a2'): {\n",
    "        'travel_time_mins': 10\n",
    "    },\n",
    "    ('a2', 'b1'): {\n",
    "        'travel_time_mins': 10230\n",
    "    },\n",
    "    ('b1', 'a1'): {\n",
    "        'travel_time_mins': 1\n",
    "    }\n",
    "}"
   ]
  },
  {
   "cell_type": "code",
   "execution_count": 87,
   "id": "a371db74-c209-4b5d-a02f-135abbe5095b",
   "metadata": {},
   "outputs": [
    {
     "data": {
      "text/plain": [
       "10"
      ]
     },
     "execution_count": 87,
     "metadata": {},
     "output_type": "execute_result"
    }
   ],
   "source": [
    "eta(\"upd\",\"admu\",legs)"
   ]
  },
  {
   "cell_type": "code",
   "execution_count": 88,
   "id": "b7ca042f-171b-4255-8e1b-d9d8bd87466e",
   "metadata": {},
   "outputs": [
    {
     "data": {
      "text/plain": [
       "45"
      ]
     },
     "execution_count": 88,
     "metadata": {},
     "output_type": "execute_result"
    }
   ],
   "source": [
    "eta(\"upd\",\"dlsu\",legs)"
   ]
  },
  {
   "cell_type": "code",
   "execution_count": 89,
   "id": "a6f612b6-a657-4cf2-9d0b-d71f4f46d998",
   "metadata": {},
   "outputs": [
    {
     "data": {
      "text/plain": [
       "100"
      ]
     },
     "execution_count": 89,
     "metadata": {},
     "output_type": "execute_result"
    }
   ],
   "source": [
    "eta(\"upd\",\"upd\",legs)"
   ]
  },
  {
   "cell_type": "code",
   "execution_count": 90,
   "id": "63156dc0-2355-4edc-8575-47a6c2e375c5",
   "metadata": {},
   "outputs": [
    {
     "data": {
      "text/plain": [
       "35"
      ]
     },
     "execution_count": 90,
     "metadata": {},
     "output_type": "execute_result"
    }
   ],
   "source": [
    "eta(\"admu\",\"dlsu\",legs)"
   ]
  },
  {
   "cell_type": "code",
   "execution_count": 91,
   "id": "1d5aeff7-8778-49a9-861e-9e211105da54",
   "metadata": {},
   "outputs": [
    {
     "data": {
      "text/plain": [
       "10"
      ]
     },
     "execution_count": 91,
     "metadata": {},
     "output_type": "execute_result"
    }
   ],
   "source": [
    "eta(\"a1\",\"a2\",legs1)"
   ]
  },
  {
   "cell_type": "code",
   "execution_count": 92,
   "id": "31b7f24a-0c9c-4629-bd4e-7faf20b21671",
   "metadata": {},
   "outputs": [
    {
     "data": {
      "text/plain": [
       "10240"
      ]
     },
     "execution_count": 92,
     "metadata": {},
     "output_type": "execute_result"
    }
   ],
   "source": [
    "eta(\"a1\",\"b1\",legs1)"
   ]
  },
  {
   "cell_type": "code",
   "execution_count": 93,
   "id": "712716c7-05f6-4e83-b8c6-1bf6989a5149",
   "metadata": {},
   "outputs": [
    {
     "data": {
      "text/plain": [
       "10241"
      ]
     },
     "execution_count": 93,
     "metadata": {},
     "output_type": "execute_result"
    }
   ],
   "source": [
    "eta(\"a1\",\"a1\",legs1)"
   ]
  },
  {
   "cell_type": "code",
   "execution_count": 94,
   "id": "a9172a55-ec7d-4b09-9c49-e65357a90d10",
   "metadata": {},
   "outputs": [
    {
     "data": {
      "text/plain": [
       "10230"
      ]
     },
     "execution_count": 94,
     "metadata": {},
     "output_type": "execute_result"
    }
   ],
   "source": [
    "eta(\"a2\",\"b1\",legs1)"
   ]
  },
  {
   "cell_type": "code",
   "execution_count": null,
   "id": "bc742234-046a-4dc7-b0d4-755766e41d54",
   "metadata": {},
   "outputs": [],
   "source": []
  },
  {
   "cell_type": "code",
   "execution_count": null,
   "id": "003de9c8-6b33-454e-aa7e-926851fef744",
   "metadata": {},
   "outputs": [],
   "source": []
  }
 ],
 "metadata": {
  "kernelspec": {
   "display_name": "Python 3 (ipykernel)",
   "language": "python",
   "name": "python3"
  },
  "language_info": {
   "codemirror_mode": {
    "name": "ipython",
    "version": 3
   },
   "file_extension": ".py",
   "mimetype": "text/x-python",
   "name": "python",
   "nbconvert_exporter": "python",
   "pygments_lexer": "ipython3",
   "version": "3.9.12"
  }
 },
 "nbformat": 4,
 "nbformat_minor": 5
}
